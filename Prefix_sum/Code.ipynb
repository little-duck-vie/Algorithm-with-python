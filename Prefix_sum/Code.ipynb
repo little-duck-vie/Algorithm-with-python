{
 "cells": [
  {
   "cell_type": "markdown",
   "metadata": {},
   "source": [
    "# Mảng cộng dồn 1 chiều "
   ]
  },
  {
   "cell_type": "code",
   "execution_count": 3,
   "metadata": {},
   "outputs": [
    {
     "name": "stdout",
     "output_type": "stream",
     "text": [
      "[1, 3, 6, 10, 15, 21, 28, 36, 45, 55]\n"
     ]
    }
   ],
   "source": [
    "# create 1D list\n",
    "a = [1,2,3,4,5,6,7,8,9,10]\n",
    "pre = []\n",
    "pre.append(a[0])\n",
    "for i in range(1,len(a)):\n",
    "    pre.append(pre[i-1]+a[i])\n",
    "print(pre)\n"
   ]
  },
  {
   "cell_type": "code",
   "execution_count": 7,
   "metadata": {},
   "outputs": [
    {
     "name": "stdout",
     "output_type": "stream",
     "text": [
      "5\n",
      "7\n"
     ]
    }
   ],
   "source": [
    "n = int(input())\n",
    "for i in range(n):\n",
    "    x,y = map(int,input().split())\n",
    "    print(pre[y]-pre[x-1])"
   ]
  },
  {
   "cell_type": "markdown",
   "metadata": {},
   "source": [
    "# Mảng cộng dồn 2 chiều"
   ]
  },
  {
   "cell_type": "code",
   "execution_count": 26,
   "metadata": {},
   "outputs": [
    {
     "name": "stdout",
     "output_type": "stream",
     "text": [
      "[[1, 3, 6], [5, 12, 21], [12, 27, 45]]\n"
     ]
    }
   ],
   "source": [
    "# create 2D list\n",
    "arr = [[1,2,3],[4,5,6],[7,8,9]]\n",
    "pre_2D = []\n",
    "row = [0]\n",
    "for i in range(0,3):\n",
    "    if i == 0:\n",
    "        for j in range(1,4):\n",
    "            row.append(row[-1]+arr[i][j-1])\n",
    "    else:\n",
    "        for j in range(1,4):\n",
    "            row.append(pre_2D[i-1][j]+row[-1]-pre_2D[i-1][j-1]+arr[i][j-1])\n",
    "    pre_2D.append(row)\n",
    "    row = [0]\n",
    "for i in pre_2D:\n",
    "    i.remove(0)\n",
    "print(pre_2D)"
   ]
  },
  {
   "cell_type": "code",
   "execution_count": 28,
   "metadata": {},
   "outputs": [
    {
     "name": "stdout",
     "output_type": "stream",
     "text": [
      "28\n"
     ]
    }
   ],
   "source": [
    "n = int(input())\n",
    "for i in range(n):\n",
    "    x1,y1,x2,y2 = map(int,input().split())\n",
    "    print(pre_2D[x2][y2]-pre_2D[x1-1][y2]-pre_2D[x2][y1-1]+pre_2D[x1-1][y1-1])"
   ]
  },
  {
   "cell_type": "markdown",
   "metadata": {},
   "source": [
    "# Mảng hiệu "
   ]
  },
  {
   "cell_type": "code",
   "execution_count": 39,
   "metadata": {},
   "outputs": [
    {
     "name": "stdout",
     "output_type": "stream",
     "text": [
      "[1, 1, 1, 1, 1, 1, 1, 1, 1, 1]\n"
     ]
    }
   ],
   "source": [
    "#create diference list\n",
    "m = [1,2,3,4,5,6,7,8,9,10]\n",
    "D = [m[0]]\n",
    "for i in range(1,len(m)):\n",
    "    D.append(m[i]-m[i-1])\n",
    "print(D)"
   ]
  },
  {
   "cell_type": "code",
   "execution_count": 40,
   "metadata": {},
   "outputs": [
    {
     "name": "stdout",
     "output_type": "stream",
     "text": [
      "[1, 2, 8, 9, 5, 6, 7, 8, 9, 10]\n"
     ]
    }
   ],
   "source": [
    "n = int(input())\n",
    "for i in range(n):\n",
    "    x,y,m = map(int,input().split())\n",
    "    D[x] = D[x]+m\n",
    "    D[y+1] = D[y+1]-m\n",
    "pre = [D[0]]\n",
    "for i in range(1,len(D)):\n",
    "    pre.append(pre[-1]+D[i])\n",
    "print(pre)"
   ]
  }
 ],
 "metadata": {
  "kernelspec": {
   "display_name": "base",
   "language": "python",
   "name": "python3"
  },
  "language_info": {
   "codemirror_mode": {
    "name": "ipython",
    "version": 3
   },
   "file_extension": ".py",
   "mimetype": "text/x-python",
   "name": "python",
   "nbconvert_exporter": "python",
   "pygments_lexer": "ipython3",
   "version": "3.12.4"
  }
 },
 "nbformat": 4,
 "nbformat_minor": 2
}
